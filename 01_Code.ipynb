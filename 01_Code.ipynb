{
 "cells": [
  {
   "cell_type": "markdown",
   "metadata": {},
   "source": [
    "* Name: Abdulrahman Mohamed Kamr\n",
    "* Phone Number: 01148706623\n",
    "* mail: abdokamr94@gmail.com\n"
   ]
  },
  {
   "cell_type": "markdown",
   "metadata": {},
   "source": [
    "## This task divided into Three parts\n",
    "#### Part 1: On this Jupyter notebook named:`01_Code.ipynb`, and this include all processing from greb data to printing the recommended job function.\n",
    "\n",
    "#### Part 2: On sypder named :`02_Code.py`, and this part  is a script as a RESTful API service include all processes to print the recommended job function on web by Flask.\n",
    "#### Part 3: The Report named as `03_Report`"
   ]
  },
  {
   "cell_type": "markdown",
   "metadata": {},
   "source": [
    "# Part 1:"
   ]
  },
  {
   "cell_type": "markdown",
   "metadata": {},
   "source": [
    "## Contents:\n",
    "* 1- Import Necessary Libraries\n",
    "* 2- Read In and Explore the Data\n",
    "* 3- Cleaning Data\n",
    "* 4- Make a Similarity function\n",
    "* 5- Make a Recommendation job functions\n"
   ]
  },
  {
   "cell_type": "markdown",
   "metadata": {},
   "source": [
    "### 1- Import Necessary Libraries\n"
   ]
  },
  {
   "cell_type": "code",
   "execution_count": 220,
   "metadata": {},
   "outputs": [],
   "source": [
    "import pandas as pd\n",
    "import numpy as np\n",
    "from sklearn.metrics.pairwise import cosine_similarity\n",
    "from sklearn.metrics import pairwise_distances\n",
    "\n",
    "import matplotlib.pyplot as plt\n",
    "import nltk\n",
    "from nltk.corpus import stopwords\n",
    "from nltk.stem.porter import PorterStemmer as ps\n",
    "from nltk import WordNetLemmatizer as wn\n",
    "\n",
    "from nltk.tokenize import sent_tokenize , word_tokenize\n",
    "import string\n",
    "import re\n",
    "\n",
    "from sklearn.metrics.pairwise import cosine_similarity\n",
    "from sklearn.metrics import pairwise_distances\n",
    "\n",
    "\n",
    "%matplotlib inline"
   ]
  },
  {
   "cell_type": "markdown",
   "metadata": {},
   "source": [
    "## 2- Reading In and Explore the Data"
   ]
  },
  {
   "cell_type": "code",
   "execution_count": 221,
   "metadata": {},
   "outputs": [
    {
     "data": {
      "text/html": [
       "<div>\n",
       "<style scoped>\n",
       "    .dataframe tbody tr th:only-of-type {\n",
       "        vertical-align: middle;\n",
       "    }\n",
       "\n",
       "    .dataframe tbody tr th {\n",
       "        vertical-align: top;\n",
       "    }\n",
       "\n",
       "    .dataframe thead th {\n",
       "        text-align: right;\n",
       "    }\n",
       "</style>\n",
       "<table border=\"1\" class=\"dataframe\">\n",
       "  <thead>\n",
       "    <tr style=\"text-align: right;\">\n",
       "      <th></th>\n",
       "      <th>title</th>\n",
       "      <th>jobFunction</th>\n",
       "    </tr>\n",
       "  </thead>\n",
       "  <tbody>\n",
       "    <tr>\n",
       "      <th>0</th>\n",
       "      <td>Full Stack PHP Developer</td>\n",
       "      <td>['Engineering - Telecom/Technology', 'IT/Softw...</td>\n",
       "    </tr>\n",
       "    <tr>\n",
       "      <th>1</th>\n",
       "      <td>CISCO Collaboration Specialist Engineer</td>\n",
       "      <td>['Installation/Maintenance/Repair', 'IT/Softwa...</td>\n",
       "    </tr>\n",
       "    <tr>\n",
       "      <th>2</th>\n",
       "      <td>Senior Back End-PHP Developer</td>\n",
       "      <td>['Engineering - Telecom/Technology', 'IT/Softw...</td>\n",
       "    </tr>\n",
       "    <tr>\n",
       "      <th>3</th>\n",
       "      <td>UX Designer</td>\n",
       "      <td>['Creative/Design/Art', 'IT/Software Developme...</td>\n",
       "    </tr>\n",
       "    <tr>\n",
       "      <th>4</th>\n",
       "      <td>Java Technical Lead</td>\n",
       "      <td>['Engineering - Telecom/Technology', 'IT/Softw...</td>\n",
       "    </tr>\n",
       "  </tbody>\n",
       "</table>\n",
       "</div>"
      ],
      "text/plain": [
       "                                     title  \\\n",
       "0                 Full Stack PHP Developer   \n",
       "1  CISCO Collaboration Specialist Engineer   \n",
       "2            Senior Back End-PHP Developer   \n",
       "3                              UX Designer   \n",
       "4                      Java Technical Lead   \n",
       "\n",
       "                                         jobFunction  \n",
       "0  ['Engineering - Telecom/Technology', 'IT/Softw...  \n",
       "1  ['Installation/Maintenance/Repair', 'IT/Softwa...  \n",
       "2  ['Engineering - Telecom/Technology', 'IT/Softw...  \n",
       "3  ['Creative/Design/Art', 'IT/Software Developme...  \n",
       "4  ['Engineering - Telecom/Technology', 'IT/Softw...  "
      ]
     },
     "execution_count": 221,
     "metadata": {},
     "output_type": "execute_result"
    }
   ],
   "source": [
    "data = pd.read_csv('jobs_data.csv', index_col = 0)\n",
    "data = data.drop(['industry'], axis = 1) # removing useless features \n",
    "# data = data.drop(['Unnamed: 0', 'industry'], axis = 1) # removing useless features \n",
    "data.head()"
   ]
  },
  {
   "cell_type": "code",
   "execution_count": 222,
   "metadata": {},
   "outputs": [
    {
     "name": "stdout",
     "output_type": "stream",
     "text": [
      "the data has 10870 rows and has 2 cols\n"
     ]
    }
   ],
   "source": [
    "# what is the shape of the dataset?\n",
    "print('the data has {} rows and has {} cols'.format(len(data) , len(data.columns)))\n"
   ]
  },
  {
   "cell_type": "code",
   "execution_count": 223,
   "metadata": {},
   "outputs": [
    {
     "data": {
      "text/html": [
       "<div>\n",
       "<style scoped>\n",
       "    .dataframe tbody tr th:only-of-type {\n",
       "        vertical-align: middle;\n",
       "    }\n",
       "\n",
       "    .dataframe tbody tr th {\n",
       "        vertical-align: top;\n",
       "    }\n",
       "\n",
       "    .dataframe thead th {\n",
       "        text-align: right;\n",
       "    }\n",
       "</style>\n",
       "<table border=\"1\" class=\"dataframe\">\n",
       "  <thead>\n",
       "    <tr style=\"text-align: right;\">\n",
       "      <th></th>\n",
       "      <th>title</th>\n",
       "      <th>jobFunction</th>\n",
       "    </tr>\n",
       "  </thead>\n",
       "  <tbody>\n",
       "    <tr>\n",
       "      <th>count</th>\n",
       "      <td>10870</td>\n",
       "      <td>10870</td>\n",
       "    </tr>\n",
       "    <tr>\n",
       "      <th>unique</th>\n",
       "      <td>3230</td>\n",
       "      <td>836</td>\n",
       "    </tr>\n",
       "    <tr>\n",
       "      <th>top</th>\n",
       "      <td>Graphic Designer</td>\n",
       "      <td>['IT/Software Development', 'Engineering - Tel...</td>\n",
       "    </tr>\n",
       "    <tr>\n",
       "      <th>freq</th>\n",
       "      <td>107</td>\n",
       "      <td>1489</td>\n",
       "    </tr>\n",
       "  </tbody>\n",
       "</table>\n",
       "</div>"
      ],
      "text/plain": [
       "                   title                                        jobFunction\n",
       "count              10870                                              10870\n",
       "unique              3230                                                836\n",
       "top     Graphic Designer  ['IT/Software Development', 'Engineering - Tel...\n",
       "freq                 107                                               1489"
      ]
     },
     "execution_count": 223,
     "metadata": {},
     "output_type": "execute_result"
    }
   ],
   "source": [
    "data.describe()"
   ]
  },
  {
   "cell_type": "markdown",
   "metadata": {},
   "source": [
    "* The data has a duplicate title and jobFunction and the unique of `title = 3230` and unique of `jobFunction = 836` from 10870\n",
    "\n",
    "* the most frequent in title is `Graphic Designer = 107` \n",
    "* the most frequent in jobFunction is `[IT/Software Development, Engineering - Telecom/Technology, Customer Service/Support] = 1489` \n"
   ]
  },
  {
   "cell_type": "code",
   "execution_count": 224,
   "metadata": {},
   "outputs": [
    {
     "name": "stdout",
     "output_type": "stream",
     "text": [
      "<class 'pandas.core.frame.DataFrame'>\n",
      "Int64Index: 10870 entries, 0 to 10869\n",
      "Data columns (total 2 columns):\n",
      "title          10870 non-null object\n",
      "jobFunction    10870 non-null object\n",
      "dtypes: object(2)\n",
      "memory usage: 254.8+ KB\n"
     ]
    }
   ],
   "source": [
    "data.info()"
   ]
  },
  {
   "cell_type": "code",
   "execution_count": 225,
   "metadata": {},
   "outputs": [
    {
     "data": {
      "text/html": [
       "<div>\n",
       "<style scoped>\n",
       "    .dataframe tbody tr th:only-of-type {\n",
       "        vertical-align: middle;\n",
       "    }\n",
       "\n",
       "    .dataframe tbody tr th {\n",
       "        vertical-align: top;\n",
       "    }\n",
       "\n",
       "    .dataframe thead th {\n",
       "        text-align: right;\n",
       "    }\n",
       "</style>\n",
       "<table border=\"1\" class=\"dataframe\">\n",
       "  <thead>\n",
       "    <tr style=\"text-align: right;\">\n",
       "      <th></th>\n",
       "      <th>title</th>\n",
       "      <th>jobFunction</th>\n",
       "    </tr>\n",
       "  </thead>\n",
       "  <tbody>\n",
       "    <tr>\n",
       "      <th>3928</th>\n",
       "      <td>UI/UX Web Designer</td>\n",
       "      <td>['Engineering - Telecom/Technology', 'Creative...</td>\n",
       "    </tr>\n",
       "    <tr>\n",
       "      <th>10323</th>\n",
       "      <td>Maintenance Engineer</td>\n",
       "      <td>['Installation/Maintenance/Repair', 'Engineeri...</td>\n",
       "    </tr>\n",
       "    <tr>\n",
       "      <th>3761</th>\n",
       "      <td>Senior Digital Marketing Executive</td>\n",
       "      <td>['Media/Journalism/Publishing', 'Marketing/PR/...</td>\n",
       "    </tr>\n",
       "    <tr>\n",
       "      <th>3890</th>\n",
       "      <td>Infant Class Teacher</td>\n",
       "      <td>['Education/Teaching']</td>\n",
       "    </tr>\n",
       "    <tr>\n",
       "      <th>5771</th>\n",
       "      <td>CRM Developer</td>\n",
       "      <td>['Engineering - Telecom/Technology', 'IT/Softw...</td>\n",
       "    </tr>\n",
       "  </tbody>\n",
       "</table>\n",
       "</div>"
      ],
      "text/plain": [
       "                                    title  \\\n",
       "3928                   UI/UX Web Designer   \n",
       "10323                Maintenance Engineer   \n",
       "3761   Senior Digital Marketing Executive   \n",
       "3890                 Infant Class Teacher   \n",
       "5771                        CRM Developer   \n",
       "\n",
       "                                             jobFunction  \n",
       "3928   ['Engineering - Telecom/Technology', 'Creative...  \n",
       "10323  ['Installation/Maintenance/Repair', 'Engineeri...  \n",
       "3761   ['Media/Journalism/Publishing', 'Marketing/PR/...  \n",
       "3890                              ['Education/Teaching']  \n",
       "5771   ['Engineering - Telecom/Technology', 'IT/Softw...  "
      ]
     },
     "execution_count": 225,
     "metadata": {},
     "output_type": "execute_result"
    }
   ],
   "source": [
    "data.sample(5) # see a sample of the dataset to get an idea of the variables"
   ]
  },
  {
   "cell_type": "code",
   "execution_count": 226,
   "metadata": {
    "scrolled": true
   },
   "outputs": [
    {
     "data": {
      "text/plain": [
       "0                                 Full Stack PHP Developer\n",
       "1                  CISCO Collaboration Specialist Engineer\n",
       "2                            Senior Back End-PHP Developer\n",
       "3                                              UX Designer\n",
       "4                                      Java Technical Lead\n",
       "5                               Technical Support Engineer\n",
       "6                                     Senior iOS Developer\n",
       "7                                      Mechanical Engineer\n",
       "8           Real Estate Sales Specialist - 10th of Ramadan\n",
       "9                                         School Principal\n",
       "10                             Senior Sales Representative\n",
       "11                                              Accountant\n",
       "12                                  Indoor Sales Executive\n",
       "13                          PHP Full-Stack - Joomla Expert\n",
       "14                               English Teacher Assistant\n",
       "15                                   Marketing Coordinator\n",
       "16                               Senior Business Developer\n",
       "17                                Senior Website Developer\n",
       "18                                        Chief Accountant\n",
       "19                              Senior Front-End Developer\n",
       "20                    Sales Account Manager - Google Cloud\n",
       "21                               Senior Back-End Developer\n",
       "22                                            Video Editor\n",
       "23                            Digital Marketing Specialist\n",
       "24                    Mechanical Technical Office Engineer\n",
       "25                                          Sales Engineer\n",
       "26                        German Teacher - American School\n",
       "27                                      Personal Assistant\n",
       "28                                   Sales Account Manager\n",
       "29                             Sales Coordinator/Telesales\n",
       "                               ...                        \n",
       "10840          Production Manager - PE Film Extrusion line\n",
       "10841                            Customer Support Engineer\n",
       "10842                                 Nursery Psychologist\n",
       "10843                           Managing Director - Kuwait\n",
       "10844                                       Office Manager\n",
       "10845                     Senior Software Business Analyst\n",
       "10846                             Public Relations Manager\n",
       "10847              Property Sales Consultant - Real Estate\n",
       "10848                              Real Estate Sales Agent\n",
       "10849                            Web Designer - Alexandria\n",
       "10850                           Senior Marketing Executive\n",
       "10851            Outdoor Sales Representative - Alexandria\n",
       "10852                              Front-End Web Developer\n",
       "10853                                      Sales Executive\n",
       "10854                                            Secretary\n",
       "10855                                          QA Engineer\n",
       "10856                            Senior .Net Web Developer\n",
       "10857                                     Property Advisor\n",
       "10858                                           Pharmacist\n",
       "10859      Arabic KG Teacher - مُدرسة لغة عربية رياض أطفال\n",
       "10860                       Receptionist, Front Desk Clerk\n",
       "10861                                        iOS Developer\n",
       "10862                                      Sales Executive\n",
       "10863    Solution Developer / Back-End Developer Subjec...\n",
       "10864                                 Marketing Specialist\n",
       "10865                                       Odoo Developer\n",
       "10866                    Senior PHP Developer - Alexandria\n",
       "10867    Sales & Account Manager (Real Estate / Medical...\n",
       "10868    Technical and Network Support Engineer - Alexa...\n",
       "10869                                Senior Java Developer\n",
       "Name: title, Length: 10870, dtype: object"
      ]
     },
     "execution_count": 226,
     "metadata": {},
     "output_type": "execute_result"
    }
   ],
   "source": [
    "# show the title feature\n",
    "data['title']"
   ]
  },
  {
   "cell_type": "code",
   "execution_count": 227,
   "metadata": {},
   "outputs": [
    {
     "name": "stdout",
     "output_type": "stream",
     "text": [
      "Arabic KG Teacher - مُدرسة لغة عربية رياض أطفال\n",
      "Arabic KG Teacher - مُدرسة لغة عربية رياض أطفال\n"
     ]
    }
   ],
   "source": [
    "# there's Arabic words in the data set\n",
    "print( data['title'][9804])\n",
    "print( data['title'][10859])"
   ]
  },
  {
   "cell_type": "code",
   "execution_count": 228,
   "metadata": {},
   "outputs": [
    {
     "data": {
      "text/plain": [
       "3230"
      ]
     },
     "execution_count": 228,
     "metadata": {},
     "output_type": "execute_result"
    }
   ],
   "source": [
    "# number of unique title feature\n",
    "uni_title = data['title'].unique()\n",
    "len(uni_title)"
   ]
  },
  {
   "cell_type": "code",
   "execution_count": 229,
   "metadata": {},
   "outputs": [
    {
     "data": {
      "text/plain": [
       "836"
      ]
     },
     "execution_count": 229,
     "metadata": {},
     "output_type": "execute_result"
    }
   ],
   "source": [
    "# number of unique jobfunction feature\n",
    "uni_jobfunction = data['jobFunction'].unique()\n",
    "len(uni_jobfunction)"
   ]
  },
  {
   "cell_type": "markdown",
   "metadata": {},
   "source": [
    "* So, we have a duplicate data .. but we remove the duplicate `title` rows."
   ]
  },
  {
   "cell_type": "markdown",
   "metadata": {},
   "source": [
    "## 3- Cleaning Data\n",
    "* 1- Removing Duplicate\n",
    "* 2- Removing puncituation\n",
    "* 3- Removing stopwords\n",
    "* 4- Tokenization\n",
    "* 5- Lower case"
   ]
  },
  {
   "cell_type": "code",
   "execution_count": 230,
   "metadata": {},
   "outputs": [
    {
     "data": {
      "text/plain": [
       "(3230, 2)"
      ]
     },
     "execution_count": 230,
     "metadata": {},
     "output_type": "execute_result"
    }
   ],
   "source": [
    "unduplicata_data = data.drop_duplicates(subset='title') # delete duplicated by title row\n",
    "unduplicata_data.shape"
   ]
  },
  {
   "cell_type": "code",
   "execution_count": 231,
   "metadata": {},
   "outputs": [
    {
     "data": {
      "text/html": [
       "<div>\n",
       "<style scoped>\n",
       "    .dataframe tbody tr th:only-of-type {\n",
       "        vertical-align: middle;\n",
       "    }\n",
       "\n",
       "    .dataframe tbody tr th {\n",
       "        vertical-align: top;\n",
       "    }\n",
       "\n",
       "    .dataframe thead th {\n",
       "        text-align: right;\n",
       "    }\n",
       "</style>\n",
       "<table border=\"1\" class=\"dataframe\">\n",
       "  <thead>\n",
       "    <tr style=\"text-align: right;\">\n",
       "      <th></th>\n",
       "      <th>title</th>\n",
       "      <th>jobFunction</th>\n",
       "    </tr>\n",
       "  </thead>\n",
       "  <tbody>\n",
       "    <tr>\n",
       "      <th>0</th>\n",
       "      <td>Full Stack PHP Developer</td>\n",
       "      <td>['Engineering - Telecom/Technology', 'IT/Softw...</td>\n",
       "    </tr>\n",
       "    <tr>\n",
       "      <th>1</th>\n",
       "      <td>CISCO Collaboration Specialist Engineer</td>\n",
       "      <td>['Installation/Maintenance/Repair', 'IT/Softwa...</td>\n",
       "    </tr>\n",
       "    <tr>\n",
       "      <th>2</th>\n",
       "      <td>Senior Back End-PHP Developer</td>\n",
       "      <td>['Engineering - Telecom/Technology', 'IT/Softw...</td>\n",
       "    </tr>\n",
       "    <tr>\n",
       "      <th>3</th>\n",
       "      <td>UX Designer</td>\n",
       "      <td>['Creative/Design/Art', 'IT/Software Developme...</td>\n",
       "    </tr>\n",
       "    <tr>\n",
       "      <th>4</th>\n",
       "      <td>Java Technical Lead</td>\n",
       "      <td>['Engineering - Telecom/Technology', 'IT/Softw...</td>\n",
       "    </tr>\n",
       "  </tbody>\n",
       "</table>\n",
       "</div>"
      ],
      "text/plain": [
       "                                     title  \\\n",
       "0                 Full Stack PHP Developer   \n",
       "1  CISCO Collaboration Specialist Engineer   \n",
       "2            Senior Back End-PHP Developer   \n",
       "3                              UX Designer   \n",
       "4                      Java Technical Lead   \n",
       "\n",
       "                                         jobFunction  \n",
       "0  ['Engineering - Telecom/Technology', 'IT/Softw...  \n",
       "1  ['Installation/Maintenance/Repair', 'IT/Softwa...  \n",
       "2  ['Engineering - Telecom/Technology', 'IT/Softw...  \n",
       "3  ['Creative/Design/Art', 'IT/Software Developme...  \n",
       "4  ['Engineering - Telecom/Technology', 'IT/Softw...  "
      ]
     },
     "execution_count": 231,
     "metadata": {},
     "output_type": "execute_result"
    }
   ],
   "source": [
    "unduplicata_data.head()"
   ]
  },
  {
   "cell_type": "code",
   "execution_count": 232,
   "metadata": {},
   "outputs": [
    {
     "data": {
      "text/plain": [
       "'!\"#$%&\\'()*+,-./:;<=>?@[\\\\]^_`{|}~'"
      ]
     },
     "execution_count": 232,
     "metadata": {},
     "output_type": "execute_result"
    }
   ],
   "source": [
    "string.punctuation"
   ]
  },
  {
   "cell_type": "code",
   "execution_count": 233,
   "metadata": {},
   "outputs": [
    {
     "data": {
      "text/plain": [
       "['i', 'me', 'my', 'myself', 'we']"
      ]
     },
     "execution_count": 233,
     "metadata": {},
     "output_type": "execute_result"
    }
   ],
   "source": [
    "stopwords = nltk.corpus.stopwords.words('english')\n",
    "stopwords[:5]"
   ]
  },
  {
   "cell_type": "code",
   "execution_count": 234,
   "metadata": {},
   "outputs": [],
   "source": [
    "# function for make some of NLP functions\n",
    "\n",
    "# this func for title \n",
    "def clean_text_without_splitting(text):\n",
    "    text = re.sub(\"[^A-Za-z]\", \" \", text.strip())                                   # Remove non english words\n",
    "    text = \"\".join([word for word in text if word not in string.punctuation])       # Removing puncituation\n",
    "    tokenize = re.split('\\W+' , text)                                               # Tokenization    \n",
    "    text = [word.lower() for word in tokenize if word not in stopwords]             # Removing stopwords , lower case\n",
    "    text = [word for word in text if len(word)]                                     # Remove the empty string\n",
    "    text = \" \".join(word for word in text)                                          # Make it as a sentence     \n",
    "    return text\n",
    "\n",
    "# this func for jobFunction \n",
    "def clean_text_with_splitting(text):\n",
    "    text = re.sub(\"[^A-Za-z]\", \" \", text.strip())                                   # Remove non english words\n",
    "    text = \"\".join([word for word in text if word not in string.punctuation])       # Removing puncituation\n",
    "    tokenize = re.split('\\W+' , text)                                               # Tokenization    \n",
    "    text = [word.lower() for word in tokenize if word not in stopwords]             # Removing stopwords , lower case\n",
    "    text = [word for word in text if len(word)]                                     # Remove the empty string    \n",
    "    return text\n"
   ]
  },
  {
   "cell_type": "code",
   "execution_count": 235,
   "metadata": {
    "scrolled": false
   },
   "outputs": [
    {
     "data": {
      "text/html": [
       "<div>\n",
       "<style scoped>\n",
       "    .dataframe tbody tr th:only-of-type {\n",
       "        vertical-align: middle;\n",
       "    }\n",
       "\n",
       "    .dataframe tbody tr th {\n",
       "        vertical-align: top;\n",
       "    }\n",
       "\n",
       "    .dataframe thead th {\n",
       "        text-align: right;\n",
       "    }\n",
       "</style>\n",
       "<table border=\"1\" class=\"dataframe\">\n",
       "  <thead>\n",
       "    <tr style=\"text-align: right;\">\n",
       "      <th></th>\n",
       "      <th>clean_title</th>\n",
       "      <th>clean_jobFunction</th>\n",
       "    </tr>\n",
       "  </thead>\n",
       "  <tbody>\n",
       "    <tr>\n",
       "      <th>0</th>\n",
       "      <td>full stack php developer</td>\n",
       "      <td>[engineering, telecom, technology, it, softwar...</td>\n",
       "    </tr>\n",
       "    <tr>\n",
       "      <th>1</th>\n",
       "      <td>cisco collaboration specialist engineer</td>\n",
       "      <td>[installation, maintenance, repair, it, softwa...</td>\n",
       "    </tr>\n",
       "    <tr>\n",
       "      <th>2</th>\n",
       "      <td>senior back end php developer</td>\n",
       "      <td>[engineering, telecom, technology, it, softwar...</td>\n",
       "    </tr>\n",
       "    <tr>\n",
       "      <th>3</th>\n",
       "      <td>ux designer</td>\n",
       "      <td>[creative, design, art, it, software, developm...</td>\n",
       "    </tr>\n",
       "    <tr>\n",
       "      <th>4</th>\n",
       "      <td>java technical lead</td>\n",
       "      <td>[engineering, telecom, technology, it, softwar...</td>\n",
       "    </tr>\n",
       "    <tr>\n",
       "      <th>5</th>\n",
       "      <td>technical support engineer</td>\n",
       "      <td>[it, software, development, engineering, telec...</td>\n",
       "    </tr>\n",
       "    <tr>\n",
       "      <th>6</th>\n",
       "      <td>senior ios developer</td>\n",
       "      <td>[engineering, telecom, technology, it, softwar...</td>\n",
       "    </tr>\n",
       "    <tr>\n",
       "      <th>7</th>\n",
       "      <td>mechanical engineer</td>\n",
       "      <td>[engineering, mechanical, electrical]</td>\n",
       "    </tr>\n",
       "    <tr>\n",
       "      <th>8</th>\n",
       "      <td>real estate sales specialist th ramadan</td>\n",
       "      <td>[sales, retail]</td>\n",
       "    </tr>\n",
       "    <tr>\n",
       "      <th>9</th>\n",
       "      <td>school principal</td>\n",
       "      <td>[education, teaching, administration, operatio...</td>\n",
       "    </tr>\n",
       "  </tbody>\n",
       "</table>\n",
       "</div>"
      ],
      "text/plain": [
       "                               clean_title  \\\n",
       "0                 full stack php developer   \n",
       "1  cisco collaboration specialist engineer   \n",
       "2            senior back end php developer   \n",
       "3                              ux designer   \n",
       "4                      java technical lead   \n",
       "5               technical support engineer   \n",
       "6                     senior ios developer   \n",
       "7                      mechanical engineer   \n",
       "8  real estate sales specialist th ramadan   \n",
       "9                         school principal   \n",
       "\n",
       "                                   clean_jobFunction  \n",
       "0  [engineering, telecom, technology, it, softwar...  \n",
       "1  [installation, maintenance, repair, it, softwa...  \n",
       "2  [engineering, telecom, technology, it, softwar...  \n",
       "3  [creative, design, art, it, software, developm...  \n",
       "4  [engineering, telecom, technology, it, softwar...  \n",
       "5  [it, software, development, engineering, telec...  \n",
       "6  [engineering, telecom, technology, it, softwar...  \n",
       "7              [engineering, mechanical, electrical]  \n",
       "8                                    [sales, retail]  \n",
       "9  [education, teaching, administration, operatio...  "
      ]
     },
     "execution_count": 235,
     "metadata": {},
     "output_type": "execute_result"
    }
   ],
   "source": [
    "data['clean_title'] = data['title'].apply(lambda x : clean_text_without_splitting(x)) # without splitting mean as string\n",
    "data['clean_jobFunction'] = data['jobFunction'].apply(lambda x : clean_text_with_splitting(x)) # with splitting \n",
    "\n",
    "# delete the old cols\n",
    "data = data.drop(['title', 'jobFunction'], axis=1)\n",
    "data.head(10)"
   ]
  },
  {
   "cell_type": "markdown",
   "metadata": {},
   "source": [
    "## 4- Make a Similarity functions"
   ]
  },
  {
   "cell_type": "code",
   "execution_count": 236,
   "metadata": {},
   "outputs": [],
   "source": [
    "# this func return the similarity between q1 and q2\n",
    "def jaccard_similarity_1(q1, q2):\n",
    "    intersection = set(q1).intersection(set(q2))\n",
    "    union = set(q1).union(set(q2))\n",
    "    return len(intersection)/len(union)\n",
    "    \n",
    "# take each titel in clean title (q2) and make a similarity between q2 and q1(the input) and call jaccard_similarity_1\n",
    "def jaccard_similarity_2(q1):\n",
    "    title_list = data['clean_title'] # second qurery for make jac_sim => q2    \n",
    "    sim = []\n",
    "    for i in range(len(title_list)):\n",
    "        q2 = title_list[i]\n",
    "        sim.append((jaccard_similarity_1(q1, q2), i))\n",
    "    return sim\n",
    "\n",
    "\n",
    "# take a list of tuples [(sim_num, index)] and sorted them descending by sim_num\n",
    "# make a list of all indeces from high similarity to low \n",
    "# make a list of top titles and return them\n",
    "def sorting_rev(list_of_sim_and_index):\n",
    "    sorted_sim_list = sorted(list_of_sim_and_index , reverse= True)\n",
    "    \n",
    "    # make a list of high similarity of spicific title\n",
    "    index_of_high_sim = []\n",
    "    title_of_high_sim = []\n",
    "    for i in range(len(sorted_sim_list)):\n",
    "        index_of_high_sim.append(sorted_sim_list[i][1]) # sorted_sim_list => (sim, index)\n",
    "    \n",
    "    # here we iterate on list of indeces and take just 6 job function     \n",
    "    flag = 0\n",
    "    for i in range(len(index_of_high_sim)):\n",
    "        if(flag):\n",
    "            break\n",
    "        for j in range(len(data['clean_jobFunction'][index_of_high_sim[i]])):\n",
    "            if (data['clean_jobFunction'][index_of_high_sim[i]][j] not in title_of_high_sim and (len(data['clean_jobFunction'][index_of_high_sim[i]][j]) > 1)):\n",
    "                title_of_high_sim.append(data['clean_jobFunction'][index_of_high_sim[i]][j])\n",
    "                if(len(title_of_high_sim)> 6):\n",
    "                    flag =1 \n",
    "                    break\n",
    "                \n",
    "    \n",
    "    sample_of_title_of_high_sim = title_of_high_sim[:6]\n",
    "    return sample_of_title_of_high_sim\n",
    "\n",
    "# for printing the top 6 titles\n",
    "def print_it_as_atitle(list_of_job_title):\n",
    "    for st in list_of_job_title:\n",
    "        print(st.title())\n",
    "    \n",
    "    "
   ]
  },
  {
   "cell_type": "markdown",
   "metadata": {},
   "source": [
    "## 5- Make a Recommendation job functions\n"
   ]
  },
  {
   "cell_type": "code",
   "execution_count": 237,
   "metadata": {},
   "outputs": [],
   "source": [
    "# call all function by this function to return the top 6 titles\n",
    "def recommendation_job_functions(query):\n",
    "    clean_query = clean_text_without_splitting(query)        # text preprocessing for input\n",
    "    list_of_indx = jaccard_similarity_2(clean_query)         # return list of tuple for (sim, index)\n",
    "    list_of_job_functions = sorting_rev(list_of_indx)        # return list of sorted indices\n",
    "    final_answer = print_it_as_atitle(list_of_job_functions) # print the final answer as a Title string\n",
    "    return final_answer"
   ]
  },
  {
   "cell_type": "markdown",
   "metadata": {},
   "source": [
    "#### Simple Examples"
   ]
  },
  {
   "cell_type": "code",
   "execution_count": 238,
   "metadata": {},
   "outputs": [
    {
     "name": "stdout",
     "output_type": "stream",
     "text": [
      "Engineering\n",
      "Mechanical\n",
      "Electrical\n",
      "Other\n",
      "Installation\n",
      "Maintenance\n",
      "None\n"
     ]
    }
   ],
   "source": [
    "q = \"Machine Learninig Engineer\"\n",
    "print(recommendation_job_functions(q))"
   ]
  },
  {
   "cell_type": "code",
   "execution_count": 239,
   "metadata": {},
   "outputs": [
    {
     "name": "stdout",
     "output_type": "stream",
     "text": [
      "Engineering\n",
      "Telecom\n",
      "Technology\n",
      "It\n",
      "Software\n",
      "Development\n",
      "None\n"
     ]
    }
   ],
   "source": [
    "q1 = \"java developer\"\n",
    "print(recommendation_job_functions(q1))"
   ]
  },
  {
   "cell_type": "code",
   "execution_count": 240,
   "metadata": {},
   "outputs": [
    {
     "name": "stdout",
     "output_type": "stream",
     "text": [
      "Creative\n",
      "Design\n",
      "Art\n",
      "Marketing\n",
      "Pr\n",
      "Advertising\n",
      "None\n"
     ]
    }
   ],
   "source": [
    "q2 = \"Graphic Designer\"\n",
    "print(recommendation_job_functions(q2))"
   ]
  },
  {
   "cell_type": "markdown",
   "metadata": {},
   "source": [
    "# Enter your job title"
   ]
  },
  {
   "cell_type": "code",
   "execution_count": 241,
   "metadata": {},
   "outputs": [
    {
     "name": "stdout",
     "output_type": "stream",
     "text": [
      "IOS Developer\n",
      "The input title is : IOS Developer\n",
      "--------------------------------------------------\n",
      "The related top 6 of Job Functions are:\n",
      "It\n",
      "Software\n",
      "Development\n",
      "Engineering\n",
      "Telecom\n",
      "Technology\n",
      "None\n"
     ]
    }
   ],
   "source": [
    "# print('The input title is :')\n",
    "query = str(input())\n",
    "print('The input title is :', query)\n",
    "print('-'*50)\n",
    "# IOS Developer\n",
    "print('The related top 6 of Job Functions are:')\n",
    "\n",
    "print(recommendation_job_functions(query))\n"
   ]
  },
  {
   "cell_type": "code",
   "execution_count": null,
   "metadata": {},
   "outputs": [],
   "source": []
  }
 ],
 "metadata": {
  "kernelspec": {
   "display_name": "newEnv",
   "language": "python",
   "name": "newenv"
  },
  "language_info": {
   "codemirror_mode": {
    "name": "ipython",
    "version": 3
   },
   "file_extension": ".py",
   "mimetype": "text/x-python",
   "name": "python",
   "nbconvert_exporter": "python",
   "pygments_lexer": "ipython3",
   "version": "3.7.1"
  }
 },
 "nbformat": 4,
 "nbformat_minor": 2
}
